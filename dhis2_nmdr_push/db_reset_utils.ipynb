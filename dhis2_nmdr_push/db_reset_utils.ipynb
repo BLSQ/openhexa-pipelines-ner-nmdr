{
 "cells": [
  {
   "cell_type": "code",
   "execution_count": null,
   "id": "81ed0566-1ff0-4074-b2b6-1be5a3f942ba",
   "metadata": {},
   "outputs": [],
   "source": [
    "import sqlite3\n",
    "import os\n",
    "from pathlib import Path\n",
    "from datetime import datetime"
   ]
  },
  {
   "cell_type": "code",
   "execution_count": null,
   "id": "20718ec2-e531-4383-95f0-e7269d3e1900",
   "metadata": {
    "jupyter": {
     "source_hidden": true
    }
   },
   "outputs": [],
   "source": [
    "# my queue class\n",
    "class Queue:\n",
    "    def __init__(self, db_path: str):\n",
    "        \"\"\"\n",
    "        Initialize the queue with the given SQLite database path.\n",
    "        \"\"\"\n",
    "        self.db_path = db_path\n",
    "        self._initialize_queue()\n",
    "\n",
    "    def _initialize_queue(self):\n",
    "        \"\"\"\n",
    "        Create the queue table if it does not exist.\n",
    "        \"\"\"\n",
    "        with sqlite3.connect(self.db_path) as conn:\n",
    "            cursor = conn.cursor()\n",
    "            cursor.execute(\"\"\"\n",
    "                CREATE TABLE IF NOT EXISTS queue (\n",
    "                    id INTEGER PRIMARY KEY AUTOINCREMENT,\n",
    "                    period TEXT NOT NULL\n",
    "                )\n",
    "            \"\"\")\n",
    "            conn.commit()\n",
    "\n",
    "    def enqueue(self, period: str):\n",
    "        \"\"\"\n",
    "        Add a new period to the queue only if it does not already exist.\n",
    "        \"\"\"\n",
    "        with sqlite3.connect(self.db_path) as conn:\n",
    "            cursor = conn.cursor()\n",
    "            cursor.execute(\"SELECT COUNT(*) FROM queue WHERE period = ?\", (period,))\n",
    "            exists = cursor.fetchone()[0]\n",
    "\n",
    "            if not exists:  # Insert only if the period does not exist\n",
    "                cursor.execute(\"INSERT INTO queue (period) VALUES (?)\", (period,))\n",
    "                conn.commit()\n",
    "\n",
    "    def dequeue(self):\n",
    "        \"\"\"\n",
    "        Remove and return the first period in the queue.\n",
    "        \"\"\"\n",
    "        with sqlite3.connect(self.db_path) as conn:\n",
    "            cursor = conn.cursor()\n",
    "            cursor.execute(\"SELECT id, period FROM queue ORDER BY id LIMIT 1\")\n",
    "            item = cursor.fetchone()\n",
    "            if item:\n",
    "                cursor.execute(\"DELETE FROM queue WHERE id = ?\", (item[0],))\n",
    "                conn.commit()\n",
    "                return item[1]\n",
    "        return None\n",
    "\n",
    "    def peek(self):\n",
    "        \"\"\"\n",
    "        Return the first period in the queue without removing it.\n",
    "        \"\"\"\n",
    "        with sqlite3.connect(self.db_path) as conn:\n",
    "            cursor = conn.cursor()\n",
    "            cursor.execute(\"SELECT period FROM queue ORDER BY id LIMIT 1\")\n",
    "            item = cursor.fetchone()\n",
    "            return item[0] if item else None\n",
    "\n",
    "    def count(self) -> int:\n",
    "        \"\"\"\n",
    "        Return the number of items in the queue.\n",
    "        \"\"\"\n",
    "        with sqlite3.connect(self.db_path) as conn:\n",
    "            cursor = conn.cursor()\n",
    "            cursor.execute(\"SELECT COUNT(*) FROM queue\")\n",
    "            return cursor.fetchone()[0]\n",
    "\n",
    "    def reset(self):\n",
    "        \"\"\"\n",
    "        Clear all contents from the queue and reset the indexing.\n",
    "        \"\"\"\n",
    "        with sqlite3.connect(self.db_path) as conn:\n",
    "            cursor = conn.cursor()\n",
    "            cursor.execute(\"DROP TABLE IF EXISTS queue;\")  # Drop table to reset indexing\n",
    "            conn.commit()\n",
    "            self._initialize_queue()  # Recreate table\n",
    "\n",
    "    def view_queue(self):\n",
    "        \"\"\"\n",
    "        View all elements in the queue without removing them.\n",
    "        \"\"\"\n",
    "        with sqlite3.connect(self.db_path) as conn:\n",
    "            cursor = conn.cursor()\n",
    "            cursor.execute(\"SELECT id, period FROM queue ORDER BY id\")\n",
    "            items = cursor.fetchall()\n",
    "            if items:\n",
    "                print(\"Queue contents:\")\n",
    "                for item in items:\n",
    "                    print(f\"ID: {item[0]}, Period: {item[1]}\")\n",
    "            else:\n",
    "                print(\"The queue is empty.\")\n",
    "\n",
    "    def count_queue_items(self) -> int:\n",
    "        \"\"\"\n",
    "        Count the number of items in the queue.\n",
    "        \"\"\"\n",
    "        with sqlite3.connect(self.db_path) as conn:\n",
    "            cursor = conn.cursor()\n",
    "            cursor.execute(\"SELECT COUNT(*) FROM queue\")\n",
    "            count = cursor.fetchone()[0]\n",
    "        return count\n",
    "\n",
    "# periods\n",
    "def generate_periods(start_period: str, end_period: str) -> list:\n",
    "    # Parse the start and end periods into datetime objects\n",
    "    start_date = datetime.strptime(start_period, \"%Y%m\")\n",
    "    end_date = datetime.strptime(end_period, \"%Y%m\")\n",
    "    \n",
    "    # Initialize the list of periods\n",
    "    periods = []\n",
    "    \n",
    "    # Generate periods by incrementing the month\n",
    "    while start_date <= end_date:\n",
    "        periods.append(start_date.strftime(\"%Y%m\"))\n",
    "        # Increment by one month\n",
    "        next_month = start_date.month % 12 + 1\n",
    "        year_increment = start_date.month // 12\n",
    "        start_date = start_date.replace(year=start_date.year + year_increment, month=next_month)\n",
    "    \n",
    "    return periods"
   ]
  },
  {
   "cell_type": "markdown",
   "id": "e4105ec3-733d-44e6-a0aa-191fd59c5669",
   "metadata": {},
   "source": [
    "**Run initialize**"
   ]
  },
  {
   "cell_type": "code",
   "execution_count": null,
   "id": "0545838e-9997-45cf-98b3-e8e2130f275c",
   "metadata": {},
   "outputs": [],
   "source": [
    "# set PATH to DB\n",
    "extracts_config_path = os.path.join('/home/jovyan/workspace/pipelines/dhis2_snis_extract/', \"config\", \".queue.db\")\n",
    "# local checks\n",
    "# extracts_config_path = Path(\"C:\\\\Users\\\\blues\\\\Desktop\\\\Bluesquare\\\\Repositories\\\\openhexa-pipelines-ner-nmdr\\\\dhis2_nmdr_push\\\\workspace\\\\pipelines\\\\dhis2_snis_extract\\\\config\", \".queue.db\")\n",
    "queue = Queue(extracts_config_path)"
   ]
  },
  {
   "cell_type": "markdown",
   "id": "6674f170-d068-499d-b582-b0e15add554e",
   "metadata": {},
   "source": [
    "**View queue**"
   ]
  },
  {
   "cell_type": "code",
   "execution_count": null,
   "id": "f4f59bea-842b-43b2-8f7c-3a817eef634c",
   "metadata": {},
   "outputs": [],
   "source": [
    "# Check items\n",
    "queue.view_queue()"
   ]
  },
  {
   "cell_type": "markdown",
   "id": "bd5d18a6-b3d8-4ad5-964e-01263933c2cb",
   "metadata": {},
   "source": [
    "**Reset DB**"
   ]
  },
  {
   "cell_type": "code",
   "execution_count": null,
   "id": "8e5cbbd2-292b-40b4-8e9a-3a481e20f46f",
   "metadata": {},
   "outputs": [],
   "source": [
    "queue.reset()\n",
    "\n",
    "# Check items\n",
    "print(f\"Total periods in DB: {queue.count_queue_items()}\")"
   ]
  },
  {
   "cell_type": "markdown",
   "id": "6aeb2d38-eab2-491b-a7b8-84ec5a3056ea",
   "metadata": {},
   "source": [
    "**Manually add a specific period**"
   ]
  },
  {
   "cell_type": "code",
   "execution_count": null,
   "id": "c3ec24f1-607f-4372-a226-3616334957f4",
   "metadata": {},
   "outputs": [],
   "source": [
    "periods = generate_periods('202406', '202412') # real loop\n",
    "print(periods)"
   ]
  },
  {
   "cell_type": "code",
   "execution_count": null,
   "id": "8bd7fafc-8cbb-49de-9ba4-ed913ed8e914",
   "metadata": {},
   "outputs": [],
   "source": [
    "for p in periods:\n",
    "    queue.enqueue(period=p) "
   ]
  },
  {
   "cell_type": "code",
   "execution_count": null,
   "id": "453682a1-6550-4f8b-82e0-4dca7a2deede",
   "metadata": {},
   "outputs": [],
   "source": [
    "queue.view_queue()"
   ]
  },
  {
   "cell_type": "code",
   "execution_count": null,
   "id": "08d39d82-7093-4fff-a8a6-3e5b1526d204",
   "metadata": {},
   "outputs": [],
   "source": []
  }
 ],
 "metadata": {
  "kernelspec": {
   "display_name": "era5",
   "language": "python",
   "name": "python3"
  },
  "language_info": {
   "codemirror_mode": {
    "name": "ipython",
    "version": 3
   },
   "file_extension": ".py",
   "mimetype": "text/x-python",
   "name": "python",
   "nbconvert_exporter": "python",
   "pygments_lexer": "ipython3",
   "version": "3.11.11"
  }
 },
 "nbformat": 4,
 "nbformat_minor": 5
}
